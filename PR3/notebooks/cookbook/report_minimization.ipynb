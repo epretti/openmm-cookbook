{
 "cells": [
  {
   "cell_type": "raw",
   "execution_count": 0,
   "id": "3ce18797-8fc4-4c7e-b5ce-c6c87350658b",
   "metadata": {
    "raw_mimetype": "text/restructuredtext"
   },
   "outputs": [],
   "source": [
    ".. index:: barostat, thermostat, application layer"
   ]
  },
  {
   "cell_type": "markdown",
   "id": "e174828a",
   "metadata": {},
   "source": [
    "## Reporting Minimization\n",
    "\n",
    "You can report the status of [simulation.minimizeEnergy()](http://docs.openmm.org/latest/api-python/generated/openmm.app.simulation.Simulation.html?#openmm.app.simulation.Simulation.minimizeEnergy) using a [MinimizationReporter](http://docs.openmm.org/latest/api-python/generated/openmm.openmm.MinimizationReporter.html). Note that `MinimizationReporter` was introduced in OpenMM 8.1.\n",
    "\n",
    "The syntax for doing this is somewhat different to typical OpenMM functionality. You will need to define a subclass of `MinimizationReporter` that has a `report()` method. Within this report method you can write code to take any action you want. The report method is called every iteration of the minimizer. Read the [API documentation](http://docs.openmm.org/latest/api-python/generated/openmm.openmm.MinimizationReporter.html) for more explanation.\n",
    "\n",
    "First we will create a test system then we will show an example."
   ]
  },
  {
   "cell_type": "code",
   "execution_count": 1,
   "id": "3592a17b",
   "metadata": {
    "execution": {
     "iopub.execute_input": "2025-09-23T21:19:14.725652Z",
     "iopub.status.busy": "2025-09-23T21:19:14.725444Z",
     "iopub.status.idle": "2025-09-23T21:19:15.221415Z",
     "shell.execute_reply": "2025-09-23T21:19:15.220900Z"
    }
   },
   "outputs": [],
   "source": [
    "from openmm.app import *\n",
    "from openmm import *\n",
    "from openmm.unit import *\n",
    "from sys import stdout\n",
    "\n",
    "pdb = PDBFile('villin.pdb')\n",
    "forcefield = ForceField('amber14-all.xml', 'amber14/tip3pfb.xml')\n",
    "system = forcefield.createSystem(pdb.topology, nonbondedMethod=PME,\n",
    "        nonbondedCutoff=1*nanometer, constraints=HBonds)\n",
    "integrator = LangevinMiddleIntegrator(300*kelvin, 1/picosecond, 0.004*picoseconds)\n",
    "simulation = Simulation(pdb.topology, system, integrator)\n",
    "simulation.context.setPositions(pdb.positions)"
   ]
  },
  {
   "cell_type": "markdown",
   "id": "2e7b659d",
   "metadata": {},
   "source": [
    "Below is an example which prints the current energy to the screen and saves the energy to an array for plotting. The comments explain each part."
   ]
  },
  {
   "cell_type": "code",
   "execution_count": 2,
   "id": "8692b40e",
   "metadata": {
    "execution": {
     "iopub.execute_input": "2025-09-23T21:19:15.223195Z",
     "iopub.status.busy": "2025-09-23T21:19:15.223010Z",
     "iopub.status.idle": "2025-09-23T21:19:15.226546Z",
     "shell.execute_reply": "2025-09-23T21:19:15.226137Z"
    }
   },
   "outputs": [],
   "source": [
    "\n",
    "# The class can have any name but it must subclass MinimizationReporter.\n",
    "class MyMinimizationReporter(MinimizationReporter):\n",
    "\n",
    "    # within the class you can declare variables that persist throughout the\n",
    "    # minimization\n",
    "\n",
    "    energies = [] # array to record progress\n",
    "\n",
    "    # you must override the report method and it must have this signature.\n",
    "    def report(self, iteration, x, grad, args):\n",
    "        '''\n",
    "        the report method is called every iteration of the minimization.\n",
    "        \n",
    "        Args:\n",
    "            iteration (int): The index of the current iteration. This refers \n",
    "                             to the current call to the L-BFGS optimizer.\n",
    "                             Each time the minimizer increases the restraint strength, \n",
    "                             the iteration index is reset to 0.\n",
    "\n",
    "            x (array-like): The current particle positions in flattened order: \n",
    "                            the three coordinates of the first particle, \n",
    "                            then the three coordinates of the second particle, etc.\n",
    "\n",
    "            grad (array-like): The current gradient of the objective function \n",
    "                               (potential energy plus restraint energy) with \n",
    "                               respect to the particle coordinates, in flattened order.\n",
    "\n",
    "            args (dict): Additional statistics described above about the current state of minimization. \n",
    "                         In particular:\n",
    "                         “system energy”: the current potential energy of the system\n",
    "                         “restraint energy”: the energy of the harmonic restraints\n",
    "                         “restraint strength”: the force constant of the restraints (in kJ/mol/nm^2)\n",
    "                         “max constraint error”: the maximum relative error in the length of any constraint\n",
    "\n",
    "        Returns:\n",
    "            bool : Specify if minimization should be stopped.\n",
    "        '''\n",
    "\n",
    "        # Within the report method you write the code you want to be executed at \n",
    "        # each iteration of the minimization.\n",
    "        # In this example we get the current energy, print it to the screen, and save it to an array. \n",
    "\n",
    "        current_energy = args['system energy']\n",
    "\n",
    "        if iteration % 100 == 0: # only print to screen every 100 iterations for clarity of webpage display\n",
    "            print(current_energy)\n",
    "\n",
    "            \n",
    "        self.energies.append(current_energy)\n",
    "\n",
    "        # The report method must return a bool specifying if minimization should be stopped. \n",
    "        # You can use this functionality for early termination.\n",
    "        return False"
   ]
  },
  {
   "cell_type": "markdown",
   "id": "9bbc621a",
   "metadata": {},
   "source": [
    "We now create an instance of the reporter and minimize the system with the reporter attached."
   ]
  },
  {
   "cell_type": "code",
   "execution_count": 3,
   "id": "6be58c3b",
   "metadata": {
    "execution": {
     "iopub.execute_input": "2025-09-23T21:19:15.227817Z",
     "iopub.status.busy": "2025-09-23T21:19:15.227673Z",
     "iopub.status.idle": "2025-09-23T21:19:49.423094Z",
     "shell.execute_reply": "2025-09-23T21:19:49.422596Z"
    }
   },
   "outputs": [
    {
     "name": "stdout",
     "output_type": "stream",
     "text": [
      "-142752.48339618204\n"
     ]
    },
    {
     "name": "stdout",
     "output_type": "stream",
     "text": [
      "-172833.861984055\n"
     ]
    },
    {
     "name": "stdout",
     "output_type": "stream",
     "text": [
      "-176444.82766820613\n"
     ]
    },
    {
     "name": "stdout",
     "output_type": "stream",
     "text": [
      "-178093.43865636401\n"
     ]
    },
    {
     "name": "stdout",
     "output_type": "stream",
     "text": [
      "-178992.43818712523\n"
     ]
    },
    {
     "name": "stdout",
     "output_type": "stream",
     "text": [
      "-179468.79695749728\n"
     ]
    },
    {
     "name": "stdout",
     "output_type": "stream",
     "text": [
      "-179771.58954241668\n"
     ]
    },
    {
     "name": "stdout",
     "output_type": "stream",
     "text": [
      "-179976.3964037617\n"
     ]
    },
    {
     "name": "stdout",
     "output_type": "stream",
     "text": [
      "-130436.52346969213\n"
     ]
    },
    {
     "name": "stdout",
     "output_type": "stream",
     "text": [
      "-154110.45030172128\n"
     ]
    },
    {
     "name": "stdout",
     "output_type": "stream",
     "text": [
      "-158856.86873343532\n"
     ]
    },
    {
     "name": "stdout",
     "output_type": "stream",
     "text": [
      "-161442.35167979175\n"
     ]
    },
    {
     "name": "stdout",
     "output_type": "stream",
     "text": [
      "-162779.31479849177\n"
     ]
    },
    {
     "name": "stdout",
     "output_type": "stream",
     "text": [
      "-163899.69982860898\n"
     ]
    },
    {
     "name": "stdout",
     "output_type": "stream",
     "text": [
      "-164587.73492905498\n"
     ]
    },
    {
     "name": "stdout",
     "output_type": "stream",
     "text": [
      "-165200.04661180958\n"
     ]
    },
    {
     "name": "stdout",
     "output_type": "stream",
     "text": [
      "-165666.62516121438\n"
     ]
    },
    {
     "name": "stdout",
     "output_type": "stream",
     "text": [
      "-165993.4258859052\n"
     ]
    },
    {
     "name": "stdout",
     "output_type": "stream",
     "text": [
      "-166380.23286833352\n"
     ]
    },
    {
     "name": "stdout",
     "output_type": "stream",
     "text": [
      "-166681.79630324407\n"
     ]
    },
    {
     "name": "stdout",
     "output_type": "stream",
     "text": [
      "-166927.46131305353\n"
     ]
    },
    {
     "name": "stdout",
     "output_type": "stream",
     "text": [
      "-167140.40131316605\n"
     ]
    },
    {
     "name": "stdout",
     "output_type": "stream",
     "text": [
      "-167302.95715033493\n"
     ]
    },
    {
     "name": "stdout",
     "output_type": "stream",
     "text": [
      "-167433.73542959968\n"
     ]
    },
    {
     "name": "stdout",
     "output_type": "stream",
     "text": [
      "-167506.46803548155\n"
     ]
    },
    {
     "name": "stdout",
     "output_type": "stream",
     "text": [
      "-167633.73264719773\n"
     ]
    },
    {
     "name": "stdout",
     "output_type": "stream",
     "text": [
      "-167730.01040089523\n"
     ]
    },
    {
     "name": "stdout",
     "output_type": "stream",
     "text": [
      "-167820.0844895648\n"
     ]
    },
    {
     "name": "stdout",
     "output_type": "stream",
     "text": [
      "-167884.9919021319\n"
     ]
    },
    {
     "name": "stdout",
     "output_type": "stream",
     "text": [
      "-166961.9538283762\n",
      "-166628.69476340865\n"
     ]
    },
    {
     "data": {
      "image/png": "[encoded data removed]",
      "text/plain": [
       "<Figure size 640x480 with 1 Axes>"
      ]
     },
     "metadata": {},
     "output_type": "display_data"
    }
   ],
   "source": [
    "reporter = MyMinimizationReporter()\n",
    "\n",
    "simulation.minimizeEnergy(reporter=reporter)\n",
    "\n",
    "import matplotlib.pyplot as plt\n",
    "plt.plot(reporter.energies)\n",
    "plt.ylabel(\"System energy (kJ/mol)\")\n",
    "plt.xlabel(\"Minimization iteration\")\n",
    "plt.show()"
   ]
  },
  {
   "cell_type": "markdown",
   "id": "ccc8979c",
   "metadata": {},
   "source": [
    "You will notice that the energy does not change continuously and does not always decrease. This is because the L-BFGS algorithm used by the minimizer does not support constraints. The minimizer therefore replaces all constraints with harmonic restraints, then performs unconstrained minimization of a combined objective function that is the sum of the system’s potential energy and the restraint energy. Once minimization completes, it checks whether all constraints are satisfied to an acceptable tolerance. It not, it increases the strength of the harmonic restraints and performs additional minimization. If the error in constrained distances is especially large, it may choose to throw out all work that has been done so far and start over with stronger restraints. This has several important consequences:\n",
    "\n",
    "- The objective function being minimized not actually the same as the potential energy. \n",
    "- The objective function and the potential energy can both increase between iterations. \n",
    "- The total number of iterations performed could be larger than the number specified by the maxIterations argument, if that many iterations leaves unacceptable constraint errors. \n",
    "- All work is provisional. It is possible for the minimizer to throw it out and start over. "
   ]
  }
 ],
 "metadata": {
  "kernelspec": {
   "display_name": "Python 3",
   "language": "python",
   "name": "python3"
  },
  "language_info": {
   "codemirror_mode": {
    "name": "ipython",
    "version": 3
   },
   "file_extension": ".py",
   "mimetype": "text/x-python",
   "name": "python",
   "nbconvert_exporter": "python",
   "pygments_lexer": "ipython3",
   "version": "3.12.11"
  },
  "tags": [
   "barostat",
   "thermostat",
   "application layer"
  ],
  "vscode": {
   "interpreter": {
    "hash": "31f2aee4e71d21fbe5cf8b01ff0e069b9275f58929596ceb00d14d90e3e16cd6"
   }
  }
 },
 "nbformat": 4,
 "nbformat_minor": 5
}
