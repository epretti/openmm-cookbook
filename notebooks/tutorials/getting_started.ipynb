{
 "cells": [
  {
   "cell_type": "markdown",
   "id": "5c51b663-7c4c-4f49-b5ef-dbac9b6c4dcb",
   "metadata": {},
   "source": [
    "# Getting Started with OpenMM\n",
    "\n",
    "## Introduction\n",
    "\n",
    "OpenMM is a high-performance toolkit for molecular dynamics simulations.  This series of tutorials is designed to walk you through the basic steps of using OpenMM to set up and run simulations.  Once you have familiarized yourself with these basics, you can consult the [list of more advanced tutorials](../../tutorials.rst#advanced-tutorials) to learn how to accomplish more specific simulation tasks.\n",
    "\n",
    "Before beginning, it is useful to understand a bit about the architecture of OpenMM.  The core OpenMM library is written in C++, and the [OpenMM C++ API](https://docs.openmm.org/latest/api-c++/) can be used directly to invoke OpenMM from C++ programs.  However, OpenMM provides wrappers for other languages as well, such as the [OpenMM Python API](https://docs.openmm.org/latest/api-python/).  These tutorials demonstrate how to use OpenMM from its Python API, not only due to the convenience of working with OpenMM from within Python, but also due to additional OpenMM features that are only available from Python.  In particular, the Python API consists of both:\n",
    "\n",
    "* A lower-level [\"library layer\"](https://docs.openmm.org/latest/api-python/library.html) that directly wraps OpenMM's C++ interface and provides tools for building customized molecular simulation scripts, libraries, and applications from scratch, and\n",
    "* A higher-level [\"application layer\"](https://docs.openmm.org/latest/api-python/app.html) that provides various tools for loading and applying commonly used molecular force fields, reading and writing common trajectory and topology file formats, and reporting properties during simulation runs.\n",
    "\n",
    "In general, there are three primary methods of using OpenMM to set up and run molecular simulations:\n",
    "\n",
    "1. Load a molecular topology, use OpenMM to modify it as needed, parameterize it with a force field, and simulate it.  This is the simplest method to perform straightforward simulations of biomolecules in OpenMM.  For example, if you have a PDB file with the structure of a particular protein, and you want to solvate it and simulate it with a standard Amber or CHARMM force field, this is the easiest method to do so.  This method uses OpenMM's application layer.\n",
    "2. Use some external programs or tools (*e.g.*, LEaP from [AmberTools](https://ambermd.org/AmberTools.php), or [CHARMM-GUI](https://www.charmm-gui.org/), to do your modeling and parameterization, and load the resulting input files into OpenMM for simulation.  This method can be convenient if your desired modeling workflow is more complex than what OpenMM currently supports, or you wish to use a force field that hasn't been ported to OpenMM's native format.  It also uses OpenMM's application layer.\n",
    "3. Use OpenMM's library layer to build a molecular system from scratch.  This is the most general and flexible way to use OpenMM, but requires you to explicitly define all of the necessary potential energy terms and parameters for the atoms, bonds, angles, torsions, *etc.* in your simulation, unlike the other methods that handle this setup automatically given a topology and a predefined force field.  This approach can be useful to build more complex systems when complete control over system setup is required.  However, it is also especially helpful for setting up simulations of simple model systems like Lennard-Jones fluid mixtures, bead-spring polymers, and simple coarse-grained models.\n",
    "\n",
    "These approaches are not completely exclusive: for instance, it is possible to use OpenMM's application layer to set up a simulation, and then use the library layer to make manual modifications before running it.  However, understanding the basics of these methods is useful for understanding how to build more complex simulation workflows with OpenMM, so these introductory tutorials will walk through each of them in turn.  This first tutorial covers the first method.  In particular, we will see how to load a protein structure into OpenMM, clean up and prepare the structure for simulation, add solvent, specify a force field, and run a simulation.\n",
    "\n",
    "The tutorials will not describe in extensive detail the use of external programs, such as Amber and CHARMM, for system setup.  When they discuss how to use OpenMM to run simulations that have been set up using other tools, links to relevant documentation for these tools will be given.  Furthermore, they will not describe in detail the basic theory behind molecular simulations, or discuss how to perform more advanced analysis of simulation results beyond extracting basic thermodynamic properties.  For links to resources on related topics not covered directly in these tutorials, refer to the [Further Reading](#Further-Reading) section of this and other tutorial notebooks."
   ]
  },
  {
   "cell_type": "markdown",
   "id": "b2e6351a-1e57-441d-8b3b-d837b6de4c3b",
   "metadata": {},
   "source": [
    "## Installing OpenMM and Running OpenMM Setup\n",
    "\n",
    "The most straightforward ways to install OpenMM are through either [conda-forge](https://anaconda.org/conda-forge/openmm) or [PyPI](https://pypi.org/project/OpenMM/).  If you are using `conda`, then\n",
    "```shell\n",
    "conda install -c conda-forge openmm\n",
    "```\n",
    "is all you need to get started, but more detailed instructions and a more comprehensive list of installation options can be found [in the OpenMM user manual](https://docs.openmm.org/latest/userguide/application/01_getting_started.html#installing-openmm).  (If you are following along with this notebook in Google Colab, then a cell has been inserted at the top of the notebook with commands to automatically install OpenMM into the Colab environment.)\n",
    "\n",
    "Unlike some other molecular dynamics packages (*e.g.*, LAMMPS), an installation of OpenMM does not include a standalone executable that reads input files with parameters and commands, runs simulations, and writes results.  Instead, OpenMM simply includes a Python package `openmm` providing access to its API.  This allows you to write \"input scripts\" for OpenMM in Python by importing its package and using the classes and functions it provides.  In addition to having the full power and flexibility of Python available when invoking OpenMM, this approach also enables the use of OpenMM as a library inside other Python packages.\n",
    "\n",
    "For this tutorial, where we load a protein structure and set up a straightforward molecular dynamics simulation, we will only need to write a simple script.  OpenMM provides a helpful utility, called [OpenMM Setup](https://github.com/openmm/openmm-setup), to automate writing the necessary Python scripts for simulation tasks like this.  It can be installed as an additional conda-forge package:\n",
    "```shell\n",
    "conda install -c conda-forge openmm-setup\n",
    "```\n",
    "(If you haven't already installed the `openmm` package, the `openmm-setup` package will automatically install it as a dependency.)  OpenMM Setup can be started by running the command\n",
    "```shell\n",
    "openmm-setup\n",
    "```\n",
    "in a shell, which opens its graphical user interface in a web browser.\n",
    "\n",
    "<img src=\"getting_started_1.png\" width=\"800\" style=\"border: 1px solid black;\" />\n",
    "\n",
    "In this example, we will use a structure of hen egg white lysozyme from the Protein Data Bank with [PDB ID 1AKI](https://www.rcsb.org/structure/1AKI).  The structure can be downloaded in PDBx/mmCIF format as [1AKI.cif](https://files.rcsb.org/download/1AKI.cif) from the linked PDB entry.  If you want to follow along in OpenMM Setup, you can select the default option to load a PDB or PDBx/mmCIF file.\n",
    "\n",
    "<img src=\"getting_started_2.png\" width=\"800\" style=\"border: 1px solid black;\" />\n",
    "\n",
    "OpenMM provides several commonly used force fields for biomolecular simulations; these are [described in the user guide](https://docs.openmm.org/latest/userguide/application/02_running_sims.html#force-fields).  Choosing an appropriate force field for your research problem is outside of the scope of this tutorial, but you should be aware of the behavior of the force field you choose and any limitations it has that might be applicable to your system.  The default force field that we will use here, which OpenMM refers to as [\"Amber19\"](https://docs.openmm.org/latest/userguide/application/02_running_sims.html#amber19), includes Amber ff19SB force field parameters for proteins, among others.  We will also use the default TIP3P-FB model for water; the water models distributed with the force fields built into OpenMM also contain compatible parameters for ions.\n",
    "\n",
    "Protein structures downloaded directly from the Protein Data Bank are often not immediately suitable for running simulations.  They may be missing hydrogen atoms, and they may contain additional, *e.g.*, oxygen atoms at positions where water molecules are found in the crystal structures.  OpenMM Setup comes with a builtin interface to the [PDBFixer](https://github.com/openmm/pdbfixer) tool that can help clean up and prepare files for simulation.  Selecting the option to do this brings up a visualization window where we can inspect the structure and select actions to take:\n",
    "\n",
    "<img src=\"getting_started_3.png\" width=\"800\" style=\"border: 1px solid black;\" />\n",
    "\n",
    "A PDB or PDBx/mmCIF file contains a hierarchical representation of a molecular structure, with atoms grouped into residues and residues grouped into chains.  Chains can correspond to single polymeric molecules consisting of a sequence of residues, but more generally, a chain may just group related residues together.  For the file we are using in this tutorial, the protein is present in chain A and all of the crystallographic water molecules are in chain B, so we can exclude the latter to remove the water molecules.  Alternatively, you can use the \"delete heterogens\" dropdown to remove water as well as other non-standard species from the structure.\n",
    "\n",
    "After removing the water present in our crystal structure, we can instruct OpenMM Setup to add hydrogen atoms to the remaining protein, and add water back in the form of a solvent box surrounding it.  Here we have kept the default options except for increasing the ionic strength to 0.1 M:\n",
    "\n",
    "<img src=\"getting_started_4.png\" width=\"800\" style=\"border: 1px solid black;\" />\n",
    "\n",
    "At last, OpenMM Setup will generate a Python script along with a PDBx/mmCIF file containing our preprocessed and solvated protein structure.  You can use OpenMM Setup to run OpenMM and monitor the simulation output directly from your web browser, but in this tutorial, we will take the script that OpenMM Setup generates and work through it line by line.  For this tutorial, we will keep the default options from OpenMM Setup, except for:\n",
    "\n",
    "* Decreasing the value of the \"Simulation Length (steps)\" field in the Simulation tab to 10000 (for convenience running the simulation within a Jupyter notebook).\n",
    "* Changing the \"Platform\" option in the Simulation tab to \"CPU\".  If you are running OpenMM on a computer with a GPU that supports CUDA or OpenCL, you can select the appropriate option to instruct OpenMM to use your GPU for increased performance.\n",
    "* Deselecting the \"Save trajectory to a file\" and \"Save checkpoints to a file\" options in the Output tab.  The next tutorial will cover simulation output from OpenMM in more detail; in this tutorial, we will just instruct OpenMM to write some basic statistics to a text file.\n",
    "* Decreasing the value of the \"Data Output Interval (steps)\" field in the Output tab to 100.  Since we have selected a shorter simulation length, we can save simulation properties more frequently for convenience.\n",
    "\n",
    "If you are following along with OpenMM Setup, you should select \"Save All Files\" to save the generated Python script and preprocessed structure `1AKI-processed.cif`.  If you are running this tutorial as a Jupyter notebook locally in Google Colab, the necessary PDBx/mmCIF file is already provided.  The Python script generated by OpenMM Setup with the options described above set should look like:"
   ]
  },
  {
   "cell_type": "markdown",
   "id": "3970b260-d7b1-4bf3-bea1-cdeb6c875fff",
   "metadata": {},
   "source": [
    "```python\n",
    "# This script was generated by OpenMM-Setup on 2025-09-19.\n",
    "\n",
    "from openmm import *\n",
    "from openmm.app import *\n",
    "from openmm.unit import *\n",
    "\n",
    "# Input Files\n",
    "\n",
    "pdbx = PDBxFile('1AKI-processed.cif')\n",
    "forcefield = ForceField('amber19-all.xml', 'amber19/tip3pfb.xml')\n",
    "\n",
    "# System Configuration\n",
    "\n",
    "nonbondedMethod = PME\n",
    "nonbondedCutoff = 1.0*nanometers\n",
    "ewaldErrorTolerance = 0.0005\n",
    "constraints = HBonds\n",
    "rigidWater = True\n",
    "constraintTolerance = 0.000001\n",
    "hydrogenMass = 1.5*amu\n",
    "\n",
    "# Integration Options\n",
    "\n",
    "dt = 0.004*picoseconds\n",
    "temperature = 300*kelvin\n",
    "friction = 1.0/picosecond\n",
    "pressure = 1.0*atmospheres\n",
    "barostatInterval = 25\n",
    "\n",
    "# Simulation Options\n",
    "\n",
    "steps = 10000\n",
    "equilibrationSteps = 1000\n",
    "platform = Platform.getPlatformByName('CPU')\n",
    "dataReporter = StateDataReporter('log.txt', 100, totalSteps=steps,\n",
    "    step=True, speed=True, progress=True, potentialEnergy=True, temperature=True, separator='\\t')\n",
    "\n",
    "# Prepare the Simulation\n",
    "\n",
    "print('Building system...')\n",
    "topology = pdbx.topology\n",
    "positions = pdbx.positions\n",
    "system = forcefield.createSystem(topology, nonbondedMethod=nonbondedMethod, nonbondedCutoff=nonbondedCutoff,\n",
    "    constraints=constraints, rigidWater=rigidWater, ewaldErrorTolerance=ewaldErrorTolerance, hydrogenMass=hydrogenMass)\n",
    "system.addForce(MonteCarloBarostat(pressure, temperature, barostatInterval))\n",
    "integrator = LangevinMiddleIntegrator(temperature, friction, dt)\n",
    "integrator.setConstraintTolerance(constraintTolerance)\n",
    "simulation = Simulation(topology, system, integrator, platform)\n",
    "simulation.context.setPositions(positions)\n",
    "\n",
    "# Minimize and Equilibrate\n",
    "\n",
    "print('Performing energy minimization...')\n",
    "simulation.minimizeEnergy()\n",
    "print('Equilibrating...')\n",
    "simulation.context.setVelocitiesToTemperature(temperature)\n",
    "simulation.step(equilibrationSteps)\n",
    "\n",
    "# Simulate\n",
    "\n",
    "print('Simulating...')\n",
    "simulation.reporters.append(dataReporter)\n",
    "simulation.currentStep = 0\n",
    "simulation.step(steps)\n",
    "```"
   ]
  },
  {
   "cell_type": "markdown",
   "id": "21442d60-9f98-472e-8e01-141c762dde9f",
   "metadata": {},
   "source": [
    "## Running the Simulation\n",
    "\n",
    "We will now examine in detail the Python script generated by OpenMM Setup.  First, we need to import OpenMM:"
   ]
  },
  {
   "cell_type": "code",
   "execution_count": null,
   "id": "7ab7a05d-d1dd-41b1-9a64-591ed1e4884d",
   "metadata": {},
   "outputs": [],
   "source": [
    "from openmm import *"
   ]
  },
  {
   "cell_type": "markdown",
   "id": "e6f3a0fc-cbee-475b-a1b2-3a5317d4b30e",
   "metadata": {},
   "source": [
    "Importing the top-level module only gives access to the [library layer](https://docs.openmm.org/latest/api-python/library.html) of the Python API.  To access the [application layer](https://docs.openmm.org/latest/api-python/app.html) that we will mainly be using in this tutorial, and OpenMM's units API that we will discuss later, we can use:"
   ]
  },
  {
   "cell_type": "code",
   "execution_count": null,
   "id": "5363c043-1928-45c0-b649-5b6262675193",
   "metadata": {},
   "outputs": [],
   "source": [
    "from openmm.app import *\n",
    "from openmm.unit import *"
   ]
  },
  {
   "cell_type": "markdown",
   "id": "462073bf-d82d-49b6-8b07-dcb97d3419ac",
   "metadata": {},
   "source": [
    "### Input Files\n",
    "\n",
    "Now we can load the PDBx/mmCIF file generated by OpenMM Setup using the [PDBxFile](https://docs.openmm.org/latest/api-python/generated/openmm.app.pdbxfile.PDBxFile.html) class:"
   ]
  },
  {
   "cell_type": "code",
   "execution_count": null,
   "id": "a0420be3-d785-47c3-a58d-14ce924fd402",
   "metadata": {},
   "outputs": [],
   "source": [
    "pdbx = PDBxFile('1AKI-processed.cif')"
   ]
  },
  {
   "cell_type": "markdown",
   "id": "d0c197d1-46c8-4f70-a3bb-810df4751215",
   "metadata": {},
   "source": [
    "OpenMM supports loading [several other kinds](https://docs.openmm.org/latest/api-python/app.html#loaders-and-setup) of commonly used file formats, including, for example, files in the legacy (but ubiquitous) PDB format using [PDBFile](https://docs.openmm.org/latest/api-python/generated/openmm.app.pdbfile.PDBFile.html).\n",
    "\n",
    "We also need to load *force field* files that contain the bonded and non-bonded interaction parameters specifying the potential energy of configurations of our system.  To load an OpenMM force field, we can create a [ForceField](https://docs.openmm.org/latest/api-python/generated/openmm.app.forcefield.ForceField.html) object with paths to XML files defining the templates and parameters for the force field:"
   ]
  },
  {
   "cell_type": "code",
   "execution_count": null,
   "id": "5629dd4c-08bd-43e3-8e91-a69ae8ba3646",
   "metadata": {},
   "outputs": [],
   "source": [
    "forcefield = ForceField('amber19-all.xml', 'amber19/tip3pfb.xml')"
   ]
  },
  {
   "cell_type": "markdown",
   "id": "8b3ab7e5-feda-4da0-a67d-55db4a42fcc2",
   "metadata": {},
   "source": [
    "We do not need to place these files in the current working directory to load them.  OpenMM tries to look up the force field files using the paths provided first, and if they cannot be found, looks in its data directories for them.  Since we are using force fields that are distributed with OpenMM, they are loaded from the data directory that can be found at `openmm/app/data` wherever the OpenMM Python API has been installed.\n",
    "\n",
    "The script generated by OpenMM Setup now defines several constants specifying simulation parameters.  We will discuss each of these in more detail as they are used.  OpenMM Setup allows you to adjust all of their values, although the defaults it generates should usually be appropriate for biomolecular simulations."
   ]
  },
  {
   "cell_type": "code",
   "execution_count": 2,
   "id": "f24e6c75-9ef0-4e40-91ff-74917931c9e1",
   "metadata": {},
   "outputs": [
    {
     "ename": "NameError",
     "evalue": "name 'PME' is not defined",
     "output_type": "error",
     "traceback": [
      "\u001b[31m---------------------------------------------------------------------------\u001b[39m",
      "\u001b[31mNameError\u001b[39m                                 Traceback (most recent call last)",
      "\u001b[36mCell\u001b[39m\u001b[36m \u001b[39m\u001b[32mIn[2]\u001b[39m\u001b[32m, line 3\u001b[39m\n\u001b[32m      1\u001b[39m \u001b[38;5;66;03m# System Configuration\u001b[39;00m\n\u001b[32m----> \u001b[39m\u001b[32m3\u001b[39m nonbondedMethod = \u001b[43mPME\u001b[49m\n\u001b[32m      4\u001b[39m nonbondedCutoff = \u001b[32m1.0\u001b[39m*nanometers\n\u001b[32m      5\u001b[39m ewaldErrorTolerance = \u001b[32m0.0005\u001b[39m\n",
      "\u001b[31mNameError\u001b[39m: name 'PME' is not defined"
     ]
    }
   ],
   "source": [
    "# System Configuration\n",
    "\n",
    "nonbondedMethod = PME\n",
    "nonbondedCutoff = 1.0*nanometers\n",
    "ewaldErrorTolerance = 0.0005\n",
    "constraints = HBonds\n",
    "rigidWater = True\n",
    "constraintTolerance = 0.000001\n",
    "hydrogenMass = 1.5*amu\n",
    "\n",
    "# Integration Options\n",
    "\n",
    "dt = 0.004*picoseconds\n",
    "temperature = 300*kelvin\n",
    "friction = 1.0/picosecond\n",
    "pressure = 1.0*atmospheres\n",
    "barostatInterval = 25\n",
    "\n",
    "# Simulation Options\n",
    "\n",
    "steps = 10000\n",
    "equilibrationSteps = 1000"
   ]
  },
  {
   "cell_type": "code",
   "execution_count": null,
   "id": "04705b74-1d2a-4260-87aa-12d218487374",
   "metadata": {},
   "outputs": [],
   "source": [
    "platform = Platform.getPlatformByName('CPU')"
   ]
  },
  {
   "cell_type": "code",
   "execution_count": null,
   "id": "7a8d7fc7-885e-4c2e-bd73-49827d1e3162",
   "metadata": {},
   "outputs": [],
   "source": [
    "dataReporter = StateDataReporter('log.txt', 100, totalSteps=steps,\n",
    "    step=True, speed=True, progress=True, potentialEnergy=True, temperature=True, separator='\\t')"
   ]
  },
  {
   "cell_type": "code",
   "execution_count": null,
   "id": "f504f85b-94cf-4f5e-80c4-cdc895497472",
   "metadata": {},
   "outputs": [],
   "source": [
    "topology = pdbx.topology\n",
    "positions = pdbx.positions"
   ]
  },
  {
   "cell_type": "code",
   "execution_count": null,
   "id": "30ee2c02-c726-4b65-ac0b-01a3665159fe",
   "metadata": {},
   "outputs": [],
   "source": [
    "system = forcefield.createSystem(topology, nonbondedMethod=nonbondedMethod, nonbondedCutoff=nonbondedCutoff,\n",
    "    constraints=constraints, rigidWater=rigidWater, ewaldErrorTolerance=ewaldErrorTolerance, hydrogenMass=hydrogenMass)"
   ]
  },
  {
   "cell_type": "code",
   "execution_count": null,
   "id": "bbf7d6fe-f613-4f29-99ab-6c31544d7414",
   "metadata": {},
   "outputs": [],
   "source": [
    "system.addForce(MonteCarloBarostat(pressure, temperature, barostatInterval))"
   ]
  },
  {
   "cell_type": "code",
   "execution_count": null,
   "id": "b9b95bcd-b0d0-4d62-8097-38df47c12f62",
   "metadata": {},
   "outputs": [],
   "source": [
    "integrator = LangevinMiddleIntegrator(temperature, friction, dt)\n",
    "integrator.setConstraintTolerance(constraintTolerance)"
   ]
  },
  {
   "cell_type": "code",
   "execution_count": null,
   "id": "b2aad35f-016d-4922-a0fc-51edc0aee509",
   "metadata": {},
   "outputs": [],
   "source": [
    "simulation = Simulation(topology, system, integrator, platform)"
   ]
  },
  {
   "cell_type": "code",
   "execution_count": null,
   "id": "1d6542ac-7729-4838-9dce-7506dd9c4a6c",
   "metadata": {},
   "outputs": [],
   "source": [
    "simulation.context.setPositions(positions)"
   ]
  },
  {
   "cell_type": "code",
   "execution_count": null,
   "id": "b895d702-af49-4619-8f08-6ad93ccd1f28",
   "metadata": {},
   "outputs": [],
   "source": [
    "simulation.minimizeEnergy()"
   ]
  },
  {
   "cell_type": "code",
   "execution_count": null,
   "id": "736aee3e-63db-42a4-8c57-045521dfd620",
   "metadata": {},
   "outputs": [],
   "source": [
    "simulation.context.setVelocitiesToTemperature(temperature)"
   ]
  },
  {
   "cell_type": "code",
   "execution_count": null,
   "id": "68abc617-78ad-4660-92d2-88207ba1e267",
   "metadata": {},
   "outputs": [],
   "source": [
    "simulation.step(equilibrationSteps)"
   ]
  },
  {
   "cell_type": "code",
   "execution_count": null,
   "id": "14f9b12e-05a7-4e84-91bf-13e79cfe88e7",
   "metadata": {},
   "outputs": [],
   "source": [
    "simulation.reporters.append(dataReporter)"
   ]
  },
  {
   "cell_type": "code",
   "execution_count": null,
   "id": "a0bf14da-2cab-49ae-90d5-4f668d26b235",
   "metadata": {},
   "outputs": [],
   "source": [
    "simulation.currentStep = 0\n",
    "simulation.step(steps)"
   ]
  },
  {
   "cell_type": "code",
   "execution_count": 3,
   "id": "a7310e94-911e-4d2d-a64b-a6ea4812b12a",
   "metadata": {},
   "outputs": [],
   "source": [
    "from openmm import *"
   ]
  },
  {
   "cell_type": "code",
   "execution_count": 4,
   "id": "c2b7811f-f45d-4824-b2be-887de556a267",
   "metadata": {},
   "outputs": [],
   "source": [
    "from openmm.app import *\n",
    "from openmm.unit import *"
   ]
  },
  {
   "cell_type": "code",
   "execution_count": 5,
   "id": "dcd38a9d-7d41-4747-9c65-4c96effb90db",
   "metadata": {},
   "outputs": [],
   "source": [
    "pdbx = PDBxFile('1AKI-processed.cif')"
   ]
  },
  {
   "cell_type": "code",
   "execution_count": 6,
   "id": "db150fd4-3458-467d-a8b4-e9feaeb2110c",
   "metadata": {},
   "outputs": [],
   "source": [
    "forcefield = ForceField('amber19-all.xml', 'amber19/tip3pfb.xml')"
   ]
  },
  {
   "cell_type": "code",
   "execution_count": 5,
   "id": "86daccb4-d2e2-4fc3-8032-60f2911d830c",
   "metadata": {},
   "outputs": [
    {
     "data": {
      "text/plain": [
       "<Topology; 2 chains, 207 residues, 1079 atoms, 1025 bonds>"
      ]
     },
     "execution_count": 5,
     "metadata": {},
     "output_type": "execute_result"
    }
   ],
   "source": [
    "pdbx.topology"
   ]
  },
  {
   "cell_type": "markdown",
   "id": "5ea858da-859d-4aed-be98-9e13bc51e052",
   "metadata": {},
   "source": [
    "The object produced by loading the file has a `positions` attribute, with the actual coordinates contained in the file, as well as a `topology` attribute:\n",
    "\n",
    "OpenMM [Topology](https://docs.openmm.org/latest/api-python/generated/openmm.app.topology.Topology.html) objects contain information about the identity and connectivity of the particles in a molecular system.  Topology objects arrange their data hierarchically, with each Topology containing a list of chains, each chain a list of residues, and each residue a list of atoms.  For biopolymers such as proteins, OpenMM's concepts of chains and residues generally map onto their standard meanings in this context.  More generally, a residue in a Topology represents a set of atoms that is used by OpenMM to assign simulation parameters from a force field (this is discussed in more detail later).  Chains in a Topology provide a convenient way to collect related residues; they are useful to group residues that make up subsets of atoms in a larger molecule."
   ]
  },
  {
   "cell_type": "markdown",
   "id": "81dd4de6-f4da-425b-a8cb-f2aa1a8df753",
   "metadata": {},
   "source": [
    "In order to go further, we need to specify a *force field* that defines bonded and non-bonded interaction parameters that specify the potential energy of configurations of our system.  In the OpenMM application layer, force fields work by matching *residue templates* in the force field to residues in a Topology.  A residue must have the correct number of atoms of each element, and the correct bonds between them as well as to other residues, to match a residue template in a force field.  OpenMM provides several commonly used force fields for biomolecular simulations; these are [described in the user guide](https://docs.openmm.org/latest/userguide/application/02_running_sims.html#force-fields).  Choosing an appropriate force field for your research problem is outside of the scope of this tutorial, but you should be aware of the behavior of the force field you choose and any limitations it has that might be applicable to your system.\n",
    "\n",
    "Here we will use what OpenMM refers to as the [\"Amber19\"](https://docs.openmm.org/latest/userguide/application/02_running_sims.html#amber19) force field, which includes the Amber ff19SB force field for proteins, among others.  To load a force field, create a [ForceField](https://docs.openmm.org/latest/api-python/generated/openmm.app.forcefield.ForceField.html) object with paths to XML files defining the templates and parameters for the force field:"
   ]
  },
  {
   "cell_type": "code",
   "execution_count": 11,
   "id": "0afcda0b-d924-4f50-84c6-5aa0b9b7eabe",
   "metadata": {},
   "outputs": [],
   "source": [
    "ff = openmm.app.ForceField(\"amber19-all.xml\", \"amber19/opc3.xml\")"
   ]
  },
  {
   "cell_type": "markdown",
   "id": "99a8254a-404b-4bac-a928-4ba9c5064452",
   "metadata": {},
   "source": [
    "  Note that in addition to Amber19, we have loaded parameters for the OPC3 water model (and ions) that are compatible with it.\n",
    "\n",
    "With a ForceField, Modeller can now add hydrogens to its Topology:"
   ]
  },
  {
   "cell_type": "markdown",
   "id": "7361165c-c8d6-458e-a46c-5f8b78d894d8",
   "metadata": {},
   "source": [
    "You may notice that we have passed quantities with units as arguments to Modeller.addSolvent().  OpenMM's Python API supports automatic unit conversions and dimension checking through the [openmm.unit](https://docs.openmm.org/latest/api-python/app.html#units) package.  If raw values without units are provided to OpenMM, it will assume that they are appropriately dimensioned quantities in OpenMM's [default unit system](https://docs.openmm.org/latest/userguide/theory/01_introduction.html#units).  However, always using the units API can help prevent unit conversion mistakes.  More information can be found [in the user guide](https://docs.openmm.org/latest/userguide/library/05_languages_not_cpp.html#units-and-dimensional-analysis).\n",
    "\n",
    "Finally, we have a topology that is ready for simulation, with all of the added atoms that we need, and periodic box vectors set:"
   ]
  },
  {
   "cell_type": "code",
   "execution_count": 14,
   "id": "2bb1e23e-c444-4d8e-8047-fe252005d81f",
   "metadata": {},
   "outputs": [
    {
     "data": {
      "text/plain": [
       "<Topology; 3 chains, 7044 residues, 22641 atoms, 15750 bonds>"
      ]
     },
     "execution_count": 14,
     "metadata": {},
     "output_type": "execute_result"
    }
   ],
   "source": [
    "modeller.topology"
   ]
  },
  {
   "cell_type": "code",
   "execution_count": 15,
   "id": "8dc41046-b69b-4e8b-aa56-49bdd3517c86",
   "metadata": {},
   "outputs": [
    {
     "data": {
      "text/plain": [
       "(Vec3(x=6.199413656965853, y=0, z=0), Vec3(x=0, y=6.199413656965853, z=0), Vec3(x=0, y=0, z=6.199413656965853)) nm"
      ]
     },
     "execution_count": 15,
     "metadata": {},
     "output_type": "execute_result"
    }
   ],
   "source": [
    "modeller.topology.getPeriodicBoxVectors()"
   ]
  },
  {
   "cell_type": "markdown",
   "id": "64591d34-0d4e-45ef-bbc1-f359e597ba36",
   "metadata": {},
   "source": [
    "Besides hydrogen atoms, Modeller can be used to add extra particles for force fields that require them, *e.g.*, virtual sites for 4- and 5-site water models, and Drude sites for polarizable force fields.  Modeller can also add lipid bilayers, which is useful for simulations of proteins embedded in membranes.  For more complex structure preparation and setup tasks, you may need to employ external tools.  For PDB structures that require more work than simply adding hydrogen atoms, [PDBFixer](https://github.com/openmm/pdbfixer) may be helpful.  It can add heavy atoms and even loops of residues missing from protein structures, remove unwanted molecules, and more."
   ]
  },
  {
   "cell_type": "markdown",
   "id": "65cff5c7-0a5a-432e-b5cd-b5d5fedec6bc",
   "metadata": {},
   "source": [
    "## Running a Simulation"
   ]
  },
  {
   "cell_type": "markdown",
   "id": "b653443e-964a-4203-95c2-fb57a2ce9649",
   "metadata": {},
   "source": [
    "Once we have Topology and ForceField objects, we can create an OpenMM [System](https://docs.openmm.org/latest/api-python/generated/openmm.openmm.System.html) using the [ForceField.createSystem()](https://docs.openmm.org/latest/api-python/generated/openmm.app.forcefield.ForceField.html#openmm.app.forcefield.ForceField.createSystem) method.  The documentation describes the many options that this method can take, but here we show just the most important ones:"
   ]
  },
  {
   "cell_type": "code",
   "execution_count": 16,
   "id": "5d9b48b5-2767-4406-82c8-9542eb52e6c3",
   "metadata": {},
   "outputs": [],
   "source": [
    "system = ff.createSystem(modeller.topology,\n",
    "                         nonbondedMethod=openmm.app.PME,\n",
    "                         nonbondedCutoff=1.0 * openmm.unit.nanometer,\n",
    "                         constraints=openmm.app.HBonds)"
   ]
  },
  {
   "cell_type": "markdown",
   "id": "5ca2f81b-bdc8-49cf-a2b4-3209014bc880",
   "metadata": {},
   "source": [
    "The `nonbondedMethod` argument controls how nonbonded interactions between atoms will be computed.  PME is the particle mesh Ewald method, which is usually preferable when the system you are simulating has charges and uses periodic boundary conditions.  The `nonbondedCutoff` distance specifies a cutoff for Lennard-Jones interactions, and controls the splitting between Coulomb interactions computed in direct *vs.* reciprocal space.  More information about the theory used by OpenMM to compute these interactions can be found in the [user guide](https://docs.openmm.org/latest/userguide/theory/02_standard_forces.html#nonbondedforce).  The value of 1 nm selected here is also the default.  The `constraints` argument controls which interparticle distances in a simulation OpenMM will apply rigid constraints to.  The HBonds option selects all bonds to hydrogen atoms, which typically have large force constants and thus generate high-frequency motion.  Constraining them to fixed distances allows the simulation to use a larger timestep while still remaining stable.\n",
    "\n",
    "The System object created contains all of the atoms in the topology, as well as OpenMM [Force](https://docs.openmm.org/latest/api-python/generated/openmm.openmm.Force.html) objects defining the interactions between them.  These Force objects are created by the ForceField when it matches residue templates to residues in the Topology and assigns parameters."
   ]
  },
  {
   "cell_type": "code",
   "execution_count": 17,
   "id": "c3274927-da3c-4c8b-b81d-c11a4adf1b4e",
   "metadata": {},
   "outputs": [
    {
     "data": {
      "text/plain": [
       "22641"
      ]
     },
     "execution_count": 17,
     "metadata": {},
     "output_type": "execute_result"
    }
   ],
   "source": [
    "system.getNumParticles()"
   ]
  },
  {
   "cell_type": "code",
   "execution_count": 18,
   "id": "b55c7b54-07a4-478c-945b-57dfaf70cad4",
   "metadata": {},
   "outputs": [
    {
     "data": {
      "text/plain": [
       "[<openmm.openmm.HarmonicBondForce; proxy of <Swig Object of type 'OpenMM::HarmonicBondForce *' at 0x11a7bf3c0> >,\n",
       " <openmm.openmm.NonbondedForce; proxy of <Swig Object of type 'OpenMM::NonbondedForce *' at 0x10f495500> >,\n",
       " <openmm.openmm.PeriodicTorsionForce; proxy of <Swig Object of type 'OpenMM::PeriodicTorsionForce *' at 0x10f495650> >,\n",
       " <openmm.openmm.CMAPTorsionForce; proxy of <Swig Object of type 'OpenMM::CMAPTorsionForce *' at 0x10f495710> >,\n",
       " <openmm.openmm.CMMotionRemover; proxy of <Swig Object of type 'OpenMM::CMMotionRemover *' at 0x10f495560> >,\n",
       " <openmm.openmm.HarmonicAngleForce; proxy of <Swig Object of type 'OpenMM::HarmonicAngleForce *' at 0x10f490990> >]"
      ]
     },
     "execution_count": 18,
     "metadata": {},
     "output_type": "execute_result"
    }
   ],
   "source": [
    "system.getForces()"
   ]
  },
  {
   "cell_type": "markdown",
   "id": "09bb377b-3fca-4c40-83dc-62c40fb7649a",
   "metadata": {},
   "source": [
    "Here, we can treat the System object largely as a black box that describes to OpenMM how to calculate the energy and forces for a given set of positions of the atoms in our structure.  In a later tutorial, we will see how to build a System and set up Force objects from scratch, without using a predefined ForceField.\n",
    "\n",
    "To perform molecular dynamics simulations, we need to select an integration algorithm.  In OpenMM, we do so by creating an [Integrator](https://docs.openmm.org/latest/api-python/generated/openmm.openmm.Integrator.html) object.  Subclasses of Integrator define specific integration algorithms.  Here, we will use the [LangevinMiddleIntegrator](https://docs.openmm.org/latest/api-python/generated/openmm.openmm.LangevinMiddleIntegrator.html), which uses Langevin dynamics to simulate a System and maintain its temperature at a fixed setpoint:"
   ]
  },
  {
   "cell_type": "code",
   "execution_count": 19,
   "id": "b09d85eb-2699-4490-bfd2-ad94817f1d2e",
   "metadata": {},
   "outputs": [],
   "source": [
    "integrator = openmm.LangevinMiddleIntegrator(300.0 * openmm.unit.kelvin, 1.0 / openmm.unit.picosecond, 0.004 * openmm.unit.picosecond)"
   ]
  },
  {
   "cell_type": "markdown",
   "id": "7daf2823-dabe-445d-b628-79827be17fba",
   "metadata": {},
   "source": [
    "The first parameter sets the temperature, the second sets the friction coefficient (in inverse time units), and the third sets the integration timestep.  Choosing appropriate thermostat parameters is beyond the scope of this tutorial, but the timestep chosen here should work with the constraint option we selected earlier.\n",
    "\n",
    "As is, the integrator will act as a thermostat, causing the total energy of the system to fluctuate in order to maintain the set temperature.  However, the system volume will remain fixed.  To perform a simulation at constant pressure instead, we will need to add a barostat:"
   ]
  },
  {
   "cell_type": "code",
   "execution_count": 20,
   "id": "8a9e01eb-1077-47a8-90f5-4669cc96a2a3",
   "metadata": {},
   "outputs": [],
   "source": [
    "system.addForce(openmm.MonteCarloBarostat(1.0 * openmm.unit.atmosphere, integrator.getTemperature()));"
   ]
  },
  {
   "cell_type": "markdown",
   "id": "4a4ed707-8252-464b-9a1a-5ca1c530792b",
   "metadata": {},
   "source": [
    "OpenMM provides [MonteCarloBarostat](https://docs.openmm.org/latest/api-python/generated/openmm.openmm.MonteCarloBarostat.html) as a barostat that uniformly scales the size of the periodic box vectors.  Other, anisotropic barostats are also available.  Note that in addition to the desired pressure, we must pass the temperature set in the chosen thermostat to the barostat.  Though the barostat does not also regulate the temperature of the system, this temperature must be specified so that the barostat can calculate the correct probability that a volume adjustment Monte Carlo move should be accepted.\n",
    "\n",
    "We are now ready to put all of the pieces together and create an OpenMM [Simulation](https://docs.openmm.org/latest/api-python/generated/openmm.app.simulation.Simulation.html) object:"
   ]
  },
  {
   "cell_type": "code",
   "execution_count": 21,
   "id": "8696311d-78e7-433f-9685-2e8f86d37cdb",
   "metadata": {},
   "outputs": [],
   "source": [
    "simulation = openmm.app.Simulation(modeller.topology, system, integrator)"
   ]
  },
  {
   "cell_type": "markdown",
   "id": "bbc16b35-4f7b-49eb-b2b4-8f95fdfd4ed2",
   "metadata": {},
   "source": [
    "We can access the Topology, System, and Integrator for the Simulation as its `topology`, `system`, and `integrator` attributes.  However, the Simulation has also created an OpenMM [Context](https://docs.openmm.org/latest/api-python/generated/openmm.openmm.Context.html)."
   ]
  },
  {
   "cell_type": "code",
   "execution_count": 22,
   "id": "33635ce2-1d48-4786-ac0a-7a59bfb9afe5",
   "metadata": {},
   "outputs": [
    {
     "data": {
      "text/plain": [
       "<openmm.openmm.Context; proxy of <Swig Object of type 'OpenMM::Context *' at 0x11f767360> >"
      ]
     },
     "execution_count": 22,
     "metadata": {},
     "output_type": "execute_result"
    }
   ],
   "source": [
    "simulation.context"
   ]
  },
  {
   "cell_type": "markdown",
   "id": "6a908229-de91-4f87-a962-084cfdefaeb5",
   "metadata": {},
   "source": [
    "Unlike a System, that just defines information about particles and the interactions between them, a Context stores all of the information about the state of a simulation, including particle positions and velocities.  A System object acts somewhat like a template for creating Context objects, and one System could be used to create more than one Context if desired.  The interaction parameters, and other properties, stored in a Context are dependent on the parameters set in the System when the Context was created.  If changes are made to a System after a Context has been created from it, the Context will not automatically reflect these changes (although in certain cases, it is possible to update a Context with new parameters from a System).\n",
    "\n",
    "You may have noticed that we only used the `topology` from our Modeller, and not its `positions`, when creating the System.  Now that we have a Context, we can initialize it with the positions from the Modeller."
   ]
  },
  {
   "cell_type": "code",
   "execution_count": 23,
   "id": "57aa8915-04cf-40c9-b906-4b447dda36e6",
   "metadata": {},
   "outputs": [],
   "source": [
    "simulation.context.setPositions(modeller.positions)"
   ]
  },
  {
   "cell_type": "markdown",
   "id": "b2549914-3dc5-4eed-8f97-4f35f3a06040",
   "metadata": {},
   "source": [
    "Although there should not be severe problems like overlapping particles in our initial positions, it is a good idea to run a local energy minimization before starting a simulation.  The distances between protein atoms from the PDB structure might differ from their equilibrium values defined by the force field, and the solvent molecules added by the Modeller might not have optimal orientations.  Minimizing the energy can prevent large initial forces that could otherwise destabilize a simulation.  OpenMM makes this easy to do:"
   ]
  },
  {
   "cell_type": "code",
   "execution_count": 24,
   "id": "d4097119-3161-4205-938d-5c98b9156297",
   "metadata": {},
   "outputs": [],
   "source": [
    "simulation.minimizeEnergy()"
   ]
  },
  {
   "cell_type": "markdown",
   "id": "f1298c44-c4d2-4b4f-a0eb-a0f750c98128",
   "metadata": {},
   "source": [
    "OpenMM provides various options for reporting simulation results, which we will explore in more detail in the next tutorial.  For now, we can simply use OpenMM's [StateDataReporter](https://docs.openmm.org/latest/api-python/generated/openmm.app.statedatareporter.StateDataReporter.html) to print some basic information about our simulation to a file."
   ]
  },
  {
   "cell_type": "code",
   "execution_count": 25,
   "id": "11da44d9-ad78-41c0-82e1-1c319c63643b",
   "metadata": {},
   "outputs": [],
   "source": [
    "simulation.reporters.append(openmm.app.StateDataReporter(\"simulation.log\",\n",
    "                                                         reportInterval=100,\n",
    "                                                         time=True,\n",
    "                                                         potentialEnergy=True,\n",
    "                                                         temperature=True,\n",
    "                                                         density=True))"
   ]
  },
  {
   "cell_type": "markdown",
   "id": "d631876b-44fa-4619-9075-316dbc090bad",
   "metadata": {},
   "source": [
    "At last, we can run some simulation steps:"
   ]
  },
  {
   "cell_type": "code",
   "execution_count": 26,
   "id": "1883d329-73ca-4f27-bf71-62e53b1986bd",
   "metadata": {},
   "outputs": [],
   "source": [
    "simulation.step(25000)"
   ]
  },
  {
   "cell_type": "markdown",
   "id": "19b34460-e499-4982-95e5-92eaffbe7c52",
   "metadata": {},
   "source": [
    "The format of the data file written by the StateDataReporter is very simple:"
   ]
  },
  {
   "cell_type": "code",
   "execution_count": 27,
   "id": "48c1096e-c90f-4882-8115-a50285c5f68f",
   "metadata": {},
   "outputs": [
    {
     "name": "stdout",
     "output_type": "stream",
     "text": [
      "#\"Time (ps)\",\"Potential Energy (kJ/mole)\",\"Temperature (K)\",\"Density (g/mL)\"\n",
      "0.4000000000000003,-414456.1200252739,101.29547329495789,0.9750766997706524\n",
      "0.8000000000000006,-402315.4096746808,169.88594724723103,0.9842334648972402\n",
      "1.2000000000000008,-393341.3418421857,211.74217284525682,0.9893346735050422\n",
      "1.6000000000000012,-387354.3225855497,240.16775930792363,0.9909134900476821\n",
      "2.0000000000000013,-382707.2542261747,255.91778495680424,0.9909134900476821\n",
      "2.4000000000000017,-379220.9490103484,271.59592640283296,0.99424587932129\n",
      "2.800000000000002,-376977.17452490446,280.29570038675007,0.9999559383003619\n",
      "3.2000000000000024,-375428.06519079674,286.519293863457,1.0013580310820545\n",
      "3.6000000000000028,-374121.08276892174,289.3392525058974,1.0013580310820545\n"
     ]
    }
   ],
   "source": [
    "!head simulation.log"
   ]
  },
  {
   "cell_type": "markdown",
   "id": "ba62637b-f58e-4bd1-82a4-09341065c844",
   "metadata": {},
   "source": [
    "We can plot the results to qualitatively assess how quickly these parameters approach equilibrium values:"
   ]
  },
  {
   "cell_type": "code",
   "execution_count": 28,
   "id": "2bf1ce26-810a-49f8-bda4-4729a8e8e8f0",
   "metadata": {},
   "outputs": [
    {
     "data": {
      "image/png": "[encoded data removed]",
      "text/plain": [
       "<Figure size 800x300 with 3 Axes>"
      ]
     },
     "metadata": {},
     "output_type": "display_data"
    }
   ],
   "source": [
    "time, pe, temp, rho = numpy.loadtxt(\"simulation.log\", delimiter=\",\").T\n",
    "\n",
    "figure = matplotlib.pyplot.figure(figsize=(8, 3), layout=\"constrained\")\n",
    "\n",
    "axes_pe = figure.add_subplot(1, 3, 1)\n",
    "axes_pe.plot(time, pe)\n",
    "axes_pe.set_xlabel(\"Time (ps)\")\n",
    "axes_pe.set_ylabel(\"Potential energy (kJ/mol)\")\n",
    "\n",
    "axes_temp = figure.add_subplot(1, 3, 2)\n",
    "axes_temp.plot(time, temp)\n",
    "axes_temp.set_xlabel(\"Time (ps)\")\n",
    "axes_temp.set_ylabel(\"Temperature (K)\")\n",
    "\n",
    "axes_rho = figure.add_subplot(1, 3, 3)\n",
    "axes_rho.plot(time, rho)\n",
    "axes_rho.set_xlabel(\"Time (ps)\")\n",
    "axes_rho.set_ylabel(\"Density (g/mL)\")\n",
    "\n",
    "matplotlib.pyplot.show()"
   ]
  },
  {
   "cell_type": "markdown",
   "id": "cfefa80a-097b-4d5f-a7a4-d16b6d2b3f89",
   "metadata": {},
   "source": [
    "We can see that there is a relatively quick jump in the potential energy, temperature, and density as the system equilibrates.  Of course, in a production simulation, a longer simulation time would be used, along with more advanced analysis to understand whether or not the structure of the protein is changing over time.  The simulation is intentionally kept short for this tutorial, and more complex analysis is out of its scope.\n",
    "\n",
    "Since the several steps taken in this tutorial are interspersed with additional commands to illustrate their results, the key commands that are actually important for running OpenMM are given in a self-contained script below:\n",
    "\n",
    "```python\n",
    "import openmm\n",
    "import openmm.app\n",
    "import openmm.unit\n",
    "\n",
    "# Load the input structure.\n",
    "pdbx = openmm.app.PDBxFile(\"1AKI.cif\")\n",
    "\n",
    "# Delete existing waters, add hydrogens, and add solvent.\n",
    "modeller = openmm.app.Modeller(pdbx.topology, pdbx.positions)\n",
    "modeller.deleteWater()\n",
    "ff = openmm.app.ForceField(\"amber19-all.xml\", \"amber19/opc3.xml\")\n",
    "modeller.addHydrogens(ff)\n",
    "modeller.addSolvent(ff, padding=1.0 * openmm.unit.nanometer, ionicStrength=0.1 * openmm.unit.molar)\n",
    "\n",
    "# Create a System, thermostatting Integrator, and barostat.\n",
    "system = ff.createSystem(modeller.topology,\n",
    "                         nonbondedMethod=openmm.app.PME,\n",
    "                         nonbondedCutoff=1.0 * openmm.unit.nanometer,\n",
    "                         constraints=openmm.app.HBonds)\n",
    "integrator = openmm.LangevinMiddleIntegrator(300.0 * openmm.unit.kelvin, 1.0 / openmm.unit.picosecond, 0.004 * openmm.unit.picosecond)\n",
    "system.addForce(openmm.MonteCarloBarostat(1.0 * openmm.unit.atmosphere, integrator.getTemperature()))\n",
    "\n",
    "# Create a Simulation.\n",
    "simulation = openmm.app.Simulation(modeller.topology, system, integrator)\n",
    "\n",
    "# Minimize the energy of the initial configuration.\n",
    "simulation.context.setPositions(modeller.positions)\n",
    "simulation.minimizeEnergy()\n",
    "\n",
    "# Set up logging and run the simulation.\n",
    "simulation.reporters.append(openmm.app.StateDataReporter(\"simulation.log\",\n",
    "                                                         reportInterval=100,\n",
    "                                                         time=True,\n",
    "                                                         potentialEnergy=True,\n",
    "                                                         temperature=True,\n",
    "                                                         density=True))\n",
    "simulation.step(25000)\n",
    "```\n",
    "\n",
    "## Summary\n",
    "\n",
    "After following this tutorial, you should now be able to use OpenMM to:\n",
    "\n",
    "* Load a PDBx/mmCIF file and perform basic modeling tasks like adding hydrogen atoms and a solvent box.\n",
    "* Set up a simulation at constant temperature and pressure and run an energy minimization.\n",
    "* Run molecular dynamics steps and set up OpenMM to write basic thermodynamic properties to an output file.\n",
    "\n",
    "In the next tutorial, we will discuss various ways of getting data in and out of OpenMM.  We will cover how to read input files in formats designed for other molecular dynamics engines like Amber, and how to get various kinds of data, including simulation trajectories, out of OpenMM while running a simulation.\n",
    "\n",
    "## Further Reading\n",
    "\n",
    "* Relevant sections of the [User Guide](https://docs.openmm.org/latest/api-python/):\n",
    "  * [Chapter 3: Running Simulations](https://docs.openmm.org/latest/userguide/application/02_running_sims.html)\n",
    "  * [Chapter 4: Model Building and Editing](https://docs.openmm.org/latest/userguide/application/03_model_building_editing.html)\n",
    "  * [Section 12.3: Python API](https://docs.openmm.org/latest/userguide/library/05_languages_not_cpp.html#python-api)\n",
    "* [Python API documentation](https://docs.openmm.org/latest/api-python/) pages for classes used in this tutorial:\n",
    "  * [ForceField](https://docs.openmm.org/latest/api-python/generated/openmm.app.forcefield.ForceField.html)\n",
    "  * [LangevinMiddleIntegrator](https://docs.openmm.org/latest/api-python/generated/openmm.openmm.LangevinMiddleIntegrator.html)\n",
    "  * [Modeller](https://docs.openmm.org/latest/api-python/generated/openmm.app.modeller.Modeller.html)\n",
    "  * [MonteCarloBarostat](https://docs.openmm.org/latest/api-python/generated/openmm.openmm.MonteCarloBarostat.html)\n",
    "  * [PDBxFile](https://docs.openmm.org/latest/api-python/generated/openmm.app.pdbxfile.PDBxFile.html)\n",
    "  * [Simulation](https://docs.openmm.org/latest/api-python/generated/openmm.app.simulation.Simulation.html)\n",
    "  * [StateDataReporter](https://docs.openmm.org/latest/api-python/generated/openmm.app.statedatareporter.StateDataReporter.html)\n",
    "* Troubleshooting basics:\n",
    "  * If you cannot even `import openmm` from Python, make sure that you have followed the [installation instructions](https://docs.openmm.org/latest/userguide/application/01_getting_started.html#installing-openmm) carefully.\n",
    "  * If you can import OpenMM in Python, but are encountering problems running simulations, the OpenMM [Frequently Asked Questions](https://github.com/openmm/openmm/wiki/Frequently-Asked-Questions) discusses some common errors and how to resolve them.\n",
    "  * If the documentation does not address the problem you are having, feel free to ask for help on the OpenMM [discussion board](https://github.com/openmm/openmm/discussions)."
   ]
  }
 ],
 "metadata": {
  "kernelspec": {
   "display_name": "Python 3 (ipykernel)",
   "language": "python",
   "name": "python3"
  },
  "language_info": {
   "codemirror_mode": {
    "name": "ipython",
    "version": 3
   },
   "file_extension": ".py",
   "mimetype": "text/x-python",
   "name": "python",
   "nbconvert_exporter": "python",
   "pygments_lexer": "ipython3",
   "version": "3.13.5"
  }
 },
 "nbformat": 4,
 "nbformat_minor": 5
}
