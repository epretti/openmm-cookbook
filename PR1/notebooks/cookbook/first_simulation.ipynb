{
 "cells": [
  {
   "cell_type": "raw",
   "execution_count": 0,
   "id": "d2c44c1c-7aa1-4671-a7f2-a0d0f4ef5831",
   "metadata": {
    "raw_mimetype": "text/restructuredtext"
   },
   "outputs": [],
   "source": [
    ".. index:: barostat, thermostat, application layer"
   ]
  },
  {
   "cell_type": "markdown",
   "id": "e174828a",
   "metadata": {},
   "source": [
    "## First Simulation\n",
    "\n",
    "This is a good starting point for learning how to use OpenMM.\n",
    "\n",
    "It loads a PDB file `villin.pdb`, which is the [villin headpiece protein](https://en.wikipedia.org/wiki/Villin-1) in a box of water. In then parameterizes it using the Amber14 forcefield and TIP3P-FB water model, energy minimizes it, and simulates it for 1000 steps with a langevin intergator.\n"
   ]
  },
  {
   "cell_type": "code",
   "execution_count": 1,
   "id": "3592a17b",
   "metadata": {
    "execution": {
     "iopub.execute_input": "2025-08-21T23:18:59.367774Z",
     "iopub.status.busy": "2025-08-21T23:18:59.367556Z",
     "iopub.status.idle": "2025-08-21T23:19:16.355284Z",
     "shell.execute_reply": "2025-08-21T23:19:16.354811Z"
    }
   },
   "outputs": [
    {
     "name": "stdout",
     "output_type": "stream",
     "text": [
      "Minimizing energy...\n"
     ]
    },
    {
     "name": "stdout",
     "output_type": "stream",
     "text": [
      "Running simulation...\n"
     ]
    },
    {
     "name": "stdout",
     "output_type": "stream",
     "text": [
      "#\"Step\",\"Potential Energy (kJ/mole)\",\"Temperature (K)\"\n"
     ]
    },
    {
     "name": "stdout",
     "output_type": "stream",
     "text": [
      "100,-154043.38611003046,145.14913371006006\n"
     ]
    },
    {
     "name": "stdout",
     "output_type": "stream",
     "text": [
      "200,-150694.97049541326,199.39640843690333\n"
     ]
    },
    {
     "name": "stdout",
     "output_type": "stream",
     "text": [
      "300,-148297.14107906327,240.9180920462741\n"
     ]
    },
    {
     "name": "stdout",
     "output_type": "stream",
     "text": [
      "400,-146444.540940538,256.82388598714226\n"
     ]
    },
    {
     "name": "stdout",
     "output_type": "stream",
     "text": [
      "500,-145374.85687064775,273.98817473783373\n"
     ]
    },
    {
     "name": "stdout",
     "output_type": "stream",
     "text": [
      "600,-144153.01675007452,279.5795449935115\n"
     ]
    },
    {
     "name": "stdout",
     "output_type": "stream",
     "text": [
      "700,-143760.90037178833,283.9552567627092\n"
     ]
    },
    {
     "name": "stdout",
     "output_type": "stream",
     "text": [
      "800,-143393.6535008584,286.9632770419188\n"
     ]
    },
    {
     "name": "stdout",
     "output_type": "stream",
     "text": [
      "900,-142990.29877395957,294.16111290492836\n"
     ]
    },
    {
     "name": "stdout",
     "output_type": "stream",
     "text": [
      "1000,-141497.66574919797,289.86442811250095\n"
     ]
    }
   ],
   "source": [
    "from openmm.app import *\n",
    "from openmm import *\n",
    "from openmm.unit import *\n",
    "from sys import stdout\n",
    "\n",
    "# Load in the PDB strucure\n",
    "pdb = PDBFile('villin.pdb')\n",
    "\n",
    "# Specifiy the forcefield \n",
    "forcefield = ForceField('amber14-all.xml', 'amber14/tip3pfb.xml')\n",
    "\n",
    "\n",
    "# Combine the molecular topology and the forcefield\n",
    "system = forcefield.createSystem(pdb.topology, nonbondedMethod=PME,\n",
    "        nonbondedCutoff=1*nanometer, constraints=HBonds)\n",
    "\n",
    "# Create the integrator to use for advacing the equations of motion.\n",
    "# It specifies a Langevin integrator.\n",
    "# The paramters set are temperature, friction coefficient, and timestep.\n",
    "integrator = LangevinMiddleIntegrator(300*kelvin, 1/picosecond, 0.004*picoseconds)\n",
    "\n",
    "# Combines the molecular topology, system, and integrator \n",
    "# to begin a new simulation.\n",
    "simulation = Simulation(pdb.topology, system, integrator)\n",
    "simulation.context.setPositions(pdb.positions)\n",
    "\n",
    "# Perform local energy minimization\n",
    "print(\"Minimizing energy...\")\n",
    "simulation.minimizeEnergy(maxIterations=100)\n",
    "\n",
    "# Write the trajectory to a file called \"output.pdb\"\n",
    "simulation.reporters.append(PDBReporter('output.pdb', 1000))\n",
    "\n",
    "# Report infomation to the screen as the simulation runs\n",
    "simulation.reporters.append(StateDataReporter(stdout, 100, step=True,\n",
    "        potentialEnergy=True, temperature=True))\n",
    "\n",
    "#Run the simulation for 1000 timsteps\n",
    "print(\"Running simulation...\")\n",
    "simulation.step(1000)"
   ]
  }
 ],
 "metadata": {
  "kernelspec": {
   "display_name": "Python 3",
   "language": "python",
   "name": "python3"
  },
  "language_info": {
   "codemirror_mode": {
    "name": "ipython",
    "version": 3
   },
   "file_extension": ".py",
   "mimetype": "text/x-python",
   "name": "python",
   "nbconvert_exporter": "python",
   "pygments_lexer": "ipython3",
   "version": "3.12.11"
  },
  "tags": [
   "barostat",
   "thermostat",
   "application layer"
  ],
  "vscode": {
   "interpreter": {
    "hash": "31f2aee4e71d21fbe5cf8b01ff0e069b9275f58929596ceb00d14d90e3e16cd6"
   }
  }
 },
 "nbformat": 4,
 "nbformat_minor": 5
}
